{
 "cells": [
  {
   "cell_type": "markdown",
   "metadata": {},
   "source": [
    "#### Importing libraries"
   ]
  },
  {
   "cell_type": "code",
   "execution_count": 1,
   "metadata": {},
   "outputs": [],
   "source": [
    "import numpy as np\n",
    "import pandas as pd\n",
    "from sklearn.pipeline import Pipeline\n",
    "from sklearn.compose import ColumnTransformer\n",
    "from sklearn.linear_model import LinearRegression\n",
    "from sklearn.metrics import mean_squared_error, r2_score\n",
    "from sklearn.model_selection import train_test_split, cross_val_score\n",
    "from sklearn.preprocessing import StandardScaler, PolynomialFeatures, OneHotEncoder"
   ]
  },
  {
   "cell_type": "markdown",
   "metadata": {},
   "source": [
    "#### Pre-processing (improved as much as I could)"
   ]
  },
  {
   "cell_type": "code",
   "execution_count": 2,
   "metadata": {},
   "outputs": [
    {
     "name": "stdout",
     "output_type": "stream",
     "text": [
      "      price  area  bedrooms  bathrooms  stories mainroad guestroom basement  \\\n",
      "0  13300000  7420         4          2        3      yes        no       no   \n",
      "1  12250000  8960         4          4        4      yes        no       no   \n",
      "2  12250000  9960         3          2        2      yes        no      yes   \n",
      "3  12215000  7500         4          2        2      yes        no      yes   \n",
      "4  11410000  7420         4          1        2      yes       yes      yes   \n",
      "\n",
      "  hotwaterheating airconditioning  parking prefarea furnishingstatus  \n",
      "0              no             yes        2      yes        furnished  \n",
      "1              no             yes        3       no        furnished  \n",
      "2              no              no        2      yes   semi-furnished  \n",
      "3              no             yes        3      yes        furnished  \n",
      "4              no             yes        2       no        furnished  \n",
      "price               0\n",
      "area                0\n",
      "bedrooms            0\n",
      "bathrooms           0\n",
      "stories             0\n",
      "mainroad            0\n",
      "guestroom           0\n",
      "basement            0\n",
      "hotwaterheating     0\n",
      "airconditioning     0\n",
      "parking             0\n",
      "prefarea            0\n",
      "furnishingstatus    0\n",
      "dtype: int64\n"
     ]
    }
   ],
   "source": [
    "data = pd.read_csv('Housing.csv')\n",
    "print(data.head())\n",
    "print(data.isnull().sum()) # no missing values found\n",
    "\n",
    "# Feature Engineering\n",
    "features = ['area', 'bedrooms', 'bathrooms', 'stories', 'mainroad', 'guestroom', 'basement', 'hotwaterheating', 'airconditioning', 'parking', 'prefarea', 'furnishingstatus']\n",
    "X = data[features]\n",
    "y = data['price']\n",
    "\n",
    "# Converting categorical features to numerical\n",
    "categorical_features = ['mainroad', 'guestroom', 'basement', 'hotwaterheating', 'airconditioning', 'prefarea', 'furnishingstatus']\n",
    "numerical_features = ['area', 'bedrooms', 'bathrooms', 'stories', 'parking']\n",
    "\n",
    "# Scaling numerical features\n",
    "numerical_transformer = Pipeline(steps=[\n",
    "    ('scaler', StandardScaler())\n",
    "])\n",
    "\n",
    "# OneHot Encoding for categorical features\n",
    "categorical_transformer = Pipeline(steps=[\n",
    "    ('onehot', OneHotEncoder(drop='first'))  # drop='first' to avoid dummy variable trap\n",
    "])\n",
    "\n",
    "# Combining the features again\n",
    "preprocessor = ColumnTransformer(\n",
    "    transformers=[\n",
    "        ('num', numerical_transformer, numerical_features),\n",
    "        ('cat', categorical_transformer, categorical_features)\n",
    "    ])"
   ]
  },
  {
   "cell_type": "markdown",
   "metadata": {},
   "source": [
    "#### Creating a model pipeline and training the model"
   ]
  },
  {
   "cell_type": "code",
   "execution_count": 3,
   "metadata": {},
   "outputs": [],
   "source": [
    "model_pipeline = Pipeline(steps=[\n",
    "    ('preprocessor', preprocessor),\n",
    "    ('poly', PolynomialFeatures(degree=2, include_bias=False)),\n",
    "    ('model', LinearRegression())\n",
    "])\n",
    "X_train, X_test, y_train, y_test = train_test_split(X, y, test_size=0.2, random_state=42)\n",
    "model_pipeline.fit(X_train, y_train)\n",
    "y_pred = model_pipeline.predict(X_test)"
   ]
  },
  {
   "cell_type": "code",
   "execution_count": 4,
   "metadata": {},
   "outputs": [
    {
     "name": "stdout",
     "output_type": "stream",
     "text": [
      "[ 4.70447939e+06  7.76828739e+06  3.80335939e+06  4.49148739e+06\n",
      "  3.79721539e+06  3.27497539e+06  5.36393539e+06  5.70031939e+06\n",
      "  2.63804739e+06  2.96997254e+06  1.21366714e+07  2.82031939e+06\n",
      "  2.81827139e+06  3.06956081e+06  3.61494339e+06  2.05027139e+06\n",
      "  3.54940739e+06  4.32764739e+06  4.65942339e+06  4.22934339e+06\n",
      "  6.34697539e+06  5.92918339e+06  2.76707139e+06  5.15503939e+06\n",
      "  4.18019139e+06  7.61468739e+06  4.46281539e+06  4.38089539e+06\n",
      "  9.72822339e+06  3.17871939e+06  6.39817539e+06  3.63542339e+06\n",
      "  6.01929539e+06  4.54063939e+06  3.27497539e+06  6.54358339e+06\n",
      "  5.00553539e+06  2.46396739e+06  2.55612739e+06  5.00348739e+06\n",
      "  4.09007939e+06  2.82031939e+06  7.72937539e+06  4.47715139e+06\n",
      "  4.39523139e+06  3.63951939e+06  7.55939139e+06  4.31126339e+06\n",
      "  3.54121539e+06  3.55759939e+06  7.44060739e+06  2.85308739e+06\n",
      "  4.25596739e+06  3.62006339e+06  2.96777539e+06  3.01257086e+06\n",
      "  6.31830339e+06  3.07836739e+06  4.03068739e+06  2.79164739e+06\n",
      "  3.69481539e+06  2.53359939e+06  3.64771139e+06  4.02044739e+06\n",
      "  3.94467139e+06  5.79811139e+06  5.78275139e+06  3.28726339e+06\n",
      "  5.44585539e+06  7.30339139e+06 -9.37181066e+18  5.89641539e+06\n",
      "  4.37884739e+06  1.00989114e+07  2.89814339e+06  4.98915139e+06\n",
      "  4.16995139e+06  5.21033539e+06  4.81507139e+06 -9.37181066e+18\n",
      "  8.97455939e+06  4.20476739e+06  6.26249539e+06  5.77558339e+06\n",
      "  2.96777539e+06  5.47043139e+06  2.83670339e+06  4.23548739e+06\n",
      "  9.27971139e+06  8.38063939e+06  7.09785706e+05  6.89583939e+06\n",
      "  3.68252739e+06  3.07529539e+06  9.75484739e+06  5.90051139e+06\n",
      "  4.88060739e+06  6.55587139e+06  4.71676739e+06  5.98652739e+06\n",
      "  4.13308739e+06  6.92860739e+06  4.39523139e+06  4.23548739e+06\n",
      "  4.11465539e+06  4.25184466e+06  8.03452739e+06  6.68284739e+06\n",
      "  6.36438339e+06]\n"
     ]
    }
   ],
   "source": [
    "print(y_pred)"
   ]
  },
  {
   "cell_type": "markdown",
   "metadata": {},
   "source": [
    "#### Evaluating the model"
   ]
  },
  {
   "cell_type": "code",
   "execution_count": 5,
   "metadata": {},
   "outputs": [
    {
     "name": "stdout",
     "output_type": "stream",
     "text": [
      "Mean Squared Error: 1.6115749540478978e+36\n",
      "R-squared: -3.188352076437246e+23\n",
      "Cross-validated R-squared: -1.0845265397448855e+18\n"
     ]
    }
   ],
   "source": [
    "mse = mean_squared_error(y_test, y_pred)\n",
    "r2 = r2_score(y_test, y_pred)\n",
    "print(f\"Mean Squared Error: {mse}\")\n",
    "print(f\"R-squared: {r2}\")\n",
    "cv_scores = cross_val_score(model_pipeline, X, y, cv=5, scoring='r2')\n",
    "print(f\"Cross-validated R-squared: {np.mean(cv_scores)}\")"
   ]
  },
  {
   "cell_type": "markdown",
   "metadata": {},
   "source": [
    "#### Predicting prices"
   ]
  },
  {
   "cell_type": "code",
   "execution_count": 6,
   "metadata": {},
   "outputs": [
    {
     "name": "stdout",
     "output_type": "stream",
     "text": [
      "Predicted Prices: [6105311.3853211 9062623.3853211]\n"
     ]
    }
   ],
   "source": [
    "new_data = pd.DataFrame({\n",
    "    'area': [1500, 2000],\n",
    "    'bedrooms': [3, 4],\n",
    "    'bathrooms': [2, 3],\n",
    "    'stories': [2, 3],\n",
    "    'mainroad': ['yes', 'yes'],\n",
    "    'guestroom': ['no', 'no'],\n",
    "    'basement': ['no', 'no'],\n",
    "    'hotwaterheating': ['no', 'no'],\n",
    "    'airconditioning': ['yes', 'yes'],\n",
    "    'parking': [2, 3],\n",
    "    'prefarea': ['yes', 'yes'],\n",
    "    'furnishingstatus': ['furnished', 'furnished']\n",
    "})\n",
    "\n",
    "predicted_prices = model_pipeline.predict(new_data)\n",
    "print(f\"Predicted Prices: {predicted_prices}\")"
   ]
  }
 ],
 "metadata": {
  "kernelspec": {
   "display_name": "Python 3",
   "language": "python",
   "name": "python3"
  },
  "language_info": {
   "codemirror_mode": {
    "name": "ipython",
    "version": 3
   },
   "file_extension": ".py",
   "mimetype": "text/x-python",
   "name": "python",
   "nbconvert_exporter": "python",
   "pygments_lexer": "ipython3",
   "version": "3.10.9"
  }
 },
 "nbformat": 4,
 "nbformat_minor": 2
}
