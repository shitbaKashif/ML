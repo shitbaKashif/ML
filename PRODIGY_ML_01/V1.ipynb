{
 "cells": [
  {
   "cell_type": "markdown",
   "metadata": {},
   "source": [
    "#### Importing required libraries"
   ]
  },
  {
   "cell_type": "code",
   "execution_count": 1,
   "metadata": {},
   "outputs": [],
   "source": [
    "import pandas as pd\n",
    "import numpy as np\n",
    "from sklearn.linear_model import LinearRegression\n",
    "from sklearn.metrics import mean_squared_error, r2_score\n",
    "from sklearn.preprocessing import StandardScaler, PolynomialFeatures\n",
    "from sklearn.model_selection import train_test_split, cross_val_score"
   ]
  },
  {
   "cell_type": "markdown",
   "metadata": {},
   "source": [
    "#### Pre-Processing"
   ]
  },
  {
   "cell_type": "code",
   "execution_count": 2,
   "metadata": {},
   "outputs": [
    {
     "name": "stdout",
     "output_type": "stream",
     "text": [
      "      price  area  bedrooms  bathrooms  stories mainroad guestroom basement  \\\n",
      "0  13300000  7420         4          2        3      yes        no       no   \n",
      "1  12250000  8960         4          4        4      yes        no       no   \n",
      "2  12250000  9960         3          2        2      yes        no      yes   \n",
      "3  12215000  7500         4          2        2      yes        no      yes   \n",
      "4  11410000  7420         4          1        2      yes       yes      yes   \n",
      "\n",
      "  hotwaterheating airconditioning  parking prefarea furnishingstatus  \n",
      "0              no             yes        2      yes        furnished  \n",
      "1              no             yes        3       no        furnished  \n",
      "2              no              no        2      yes   semi-furnished  \n",
      "3              no             yes        3      yes        furnished  \n",
      "4              no             yes        2       no        furnished  \n",
      "price               0\n",
      "area                0\n",
      "bedrooms            0\n",
      "bathrooms           0\n",
      "stories             0\n",
      "mainroad            0\n",
      "guestroom           0\n",
      "basement            0\n",
      "hotwaterheating     0\n",
      "airconditioning     0\n",
      "parking             0\n",
      "prefarea            0\n",
      "furnishingstatus    0\n",
      "dtype: int64\n"
     ]
    }
   ],
   "source": [
    "DF = pd.read_csv('Housing.csv')\n",
    "print(DF.head())\n",
    "\n",
    "print(DF.isnull().sum()) # as no null values so no futher steps\n",
    "\n",
    "X = DF[['area', 'bedrooms', 'bathrooms']] # only used the 3 features as in the question\n",
    "y = DF['price']\n",
    "\n",
    "# Standardizing the features\n",
    "scaler = StandardScaler()\n",
    "XScaled = scaler.fit_transform(X)\n",
    "\n",
    "# Experimented to find which values give best results\n",
    "poly = PolynomialFeatures(degree=2, include_bias=False)\n",
    "XPoly = poly.fit_transform(XScaled)\n",
    "\n",
    "# Split the DF into training and testing sets\n",
    "XTrain, XTest, YTrain, YTest = train_test_split(XPoly, y, test_size=0.2, random_state=42)"
   ]
  },
  {
   "cell_type": "code",
   "execution_count": 3,
   "metadata": {},
   "outputs": [
    {
     "name": "stdout",
     "output_type": "stream",
     "text": [
      "     area  bedrooms  bathrooms\n",
      "0    7420         4          2\n",
      "1    8960         4          4\n",
      "2    9960         3          2\n",
      "3    7500         4          2\n",
      "4    7420         4          1\n",
      "..    ...       ...        ...\n",
      "540  3000         2          1\n",
      "541  2400         3          1\n",
      "542  3620         2          1\n",
      "543  2910         3          1\n",
      "544  3850         3          1\n",
      "\n",
      "[545 rows x 3 columns]\n",
      "[[ 1.04672629e+00  1.40341936e+00  1.42181174e+00 ...  1.96958589e+00\n",
      "   1.99539811e+00  2.02154861e+00]\n",
      " [ 1.75700953e+00  1.40341936e+00  5.40580863e+00 ...  1.96958589e+00\n",
      "   7.58661648e+00  2.92227670e+01]\n",
      " [ 2.21823241e+00  4.72783117e-02  1.42181174e+00 ...  2.23523876e-03\n",
      "   6.72208584e-02  2.02154861e+00]\n",
      " ...\n",
      " [-7.05920661e-01 -1.30886273e+00 -5.70186712e-01 ...  1.71312166e+00\n",
      "   7.46296139e-01  3.25112886e-01]\n",
      " [-1.03338891e+00  4.72783117e-02 -5.70186712e-01 ...  2.23523876e-03\n",
      "  -2.69574651e-02  3.25112886e-01]\n",
      " [-5.99839399e-01  4.72783117e-02 -5.70186712e-01 ...  2.23523876e-03\n",
      "  -2.69574651e-02  3.25112886e-01]]\n",
      "0      13300000\n",
      "1      12250000\n",
      "2      12250000\n",
      "3      12215000\n",
      "4      11410000\n",
      "         ...   \n",
      "540     1820000\n",
      "541     1767150\n",
      "542     1750000\n",
      "543     1750000\n",
      "544     1750000\n",
      "Name: price, Length: 545, dtype: int64\n"
     ]
    }
   ],
   "source": [
    "print(X)\n",
    "print(XPoly)\n",
    "print(y)"
   ]
  },
  {
   "cell_type": "markdown",
   "metadata": {},
   "source": [
    "#### Model (LR)"
   ]
  },
  {
   "cell_type": "code",
   "execution_count": 4,
   "metadata": {},
   "outputs": [],
   "source": [
    "# Linear Regression model\n",
    "model = LinearRegression()\n",
    "model.fit(XTrain, YTrain)\n",
    "YPred = model.predict(XTest)"
   ]
  },
  {
   "cell_type": "markdown",
   "metadata": {},
   "source": [
    "#### Evaluating the model"
   ]
  },
  {
   "cell_type": "code",
   "execution_count": 5,
   "metadata": {},
   "outputs": [
    {
     "name": "stdout",
     "output_type": "stream",
     "text": [
      "Mean Squared Error: 2577444243113.77\n",
      "R-squared: 0.49007648178002317\n"
     ]
    }
   ],
   "source": [
    "# Tried to improve the below as much as I can but can't do more then this on 3 features\n",
    "MSE = mean_squared_error(YTest, YPred)\n",
    "R2 = r2_score(YTest, YPred)\n",
    "\n",
    "print(f\"Mean Squared Error: {MSE}\")\n",
    "print(f\"R-squared: {R2}\")"
   ]
  },
  {
   "cell_type": "markdown",
   "metadata": {},
   "source": [
    "#### Cross-validating and predicting"
   ]
  },
  {
   "cell_type": "code",
   "execution_count": 8,
   "metadata": {},
   "outputs": [
    {
     "name": "stdout",
     "output_type": "stream",
     "text": [
      "Cross-validated R-squared: -6.494824372173756\n",
      "Predicted Prices: [3356432.02620671 4879327.78078459]\n"
     ]
    }
   ],
   "source": [
    "cv_scores = cross_val_score(model, XPoly, y, cv=3, scoring='r2')\n",
    "print(f\"Cross-validated R-squared: {np.mean(cv_scores)}\")\n",
    "\n",
    "NewData = pd.DataFrame({\n",
    "    'area': [1500, 2000],\n",
    "    'bedrooms': [3, 4],\n",
    "    'bathrooms': [2, 3]\n",
    "})\n",
    "NewDataS = scaler.transform(NewData)\n",
    "NewDataP = poly.transform(NewDataS)\n",
    "PredictedPrice = model.predict(NewDataP)\n",
    "print(f\"Predicted Prices: {PredictedPrice}\")"
   ]
  }
 ],
 "metadata": {
  "kernelspec": {
   "display_name": "Python 3",
   "language": "python",
   "name": "python3"
  },
  "language_info": {
   "codemirror_mode": {
    "name": "ipython",
    "version": 3
   },
   "file_extension": ".py",
   "mimetype": "text/x-python",
   "name": "python",
   "nbconvert_exporter": "python",
   "pygments_lexer": "ipython3",
   "version": "3.10.9"
  }
 },
 "nbformat": 4,
 "nbformat_minor": 2
}
